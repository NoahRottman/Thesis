{
 "cells": [
  {
   "cell_type": "code",
   "execution_count": 1,
   "metadata": {},
   "outputs": [],
   "source": [
    "import numpy as np"
   ]
  },
  {
   "cell_type": "code",
   "execution_count": 2,
   "metadata": {},
   "outputs": [],
   "source": [
    "#simply generates a uniformly distributed random list of points\n",
    "def generate_list(size, bound):\n",
    "    rand_list = [{\"x\":np.random.uniform(-bound,bound),\"y\": np.random.uniform(-bound,bound),\"centroid\":0} for i in range(size)]\n",
    "    return rand_list"
   ]
  },
  {
   "cell_type": "code",
   "execution_count": 3,
   "metadata": {},
   "outputs": [],
   "source": [
    "#randomly choose points to become centorids\n",
    "def get_random_centroids(data_set, size, k):\n",
    "    random_indices = []\n",
    "\n",
    "    for i in range (0,k):\n",
    "        random_indices.append(np.random.uniform(0,size))\n",
    "        centroids[i][\"x\"] = data_set[i][\"x\"]\n",
    "        centroids[i][\"y\"] = data_set[i][\"y\"]\n",
    "               \n",
    "    return centroids\n",
    "        "
   ]
  },
  {
   "cell_type": "code",
   "execution_count": 4,
   "metadata": {},
   "outputs": [],
   "source": [
    "#K-means terminates either because either, \n",
    "#it has run a maximum number of iterations or, \n",
    "#the centroids have stopped changing\n",
    "\n",
    "def converging(oldCentroids, centroids, iterations):\n",
    "    if iterations > MAX_ITERATIONS: return False\n",
    "    return (oldCentroids != centroids) #returns false if centroids have converged"
   ]
  },
  {
   "cell_type": "code",
   "execution_count": 16,
   "metadata": {},
   "outputs": [
    {
     "ename": "SyntaxError",
     "evalue": "unexpected EOF while parsing (<ipython-input-16-d6eba383d7c3>, line 8)",
     "output_type": "error",
     "traceback": [
      "\u001b[0;36m  File \u001b[0;32m\"<ipython-input-16-d6eba383d7c3>\"\u001b[0;36m, line \u001b[0;32m8\u001b[0m\n\u001b[0;31m    \u001b[0m\n\u001b[0m    ^\u001b[0m\n\u001b[0;31mSyntaxError\u001b[0m\u001b[0;31m:\u001b[0m unexpected EOF while parsing\n"
     ]
    }
   ],
   "source": [
    "# For each element in the dataset, chose the closest centroid. \n",
    "\n",
    "def assign_centroids(data_set, size, centroids, k):\n",
    "    \n",
    "    for i in range(0,size):\n",
    "        for j in range(0,k):\n",
    "            \n",
    "    \n"
   ]
  },
  {
   "cell_type": "code",
   "execution_count": 15,
   "metadata": {
    "scrolled": true
   },
   "outputs": [],
   "source": [
    "# Returns k centroids\n",
    "\n",
    "def position_centroids(data_set, size, centroids, k):\n",
    "    x_sum = 0\n",
    "    y_sum = 0\n",
    "    centroid_element_count = np.zeros(k)\n",
    "    \n",
    "    for i in range(0,k): #find the x & y mean of the points in a cluster\n",
    "         if (data_set[i][\"centroid\"] == i):\n",
    "            x_sum += data_set[i][\"x\"]\n",
    "            y_sum += data_set[i][\"y\"]\n",
    "            centroid_element_count[i] += 1\n",
    "            \n",
    "    for j in range(0,k):\n",
    "        if (centroid_element_count != 0):\n",
    "            centroids[j][\"x\"] = x_sum/centroid_element_count\n",
    "            centroids[j][\"y\"] = y_sum/centroid_element_count\n",
    "        else:\n",
    "            rand_index = np.random.uniform(size)\n",
    "            centroids[j][\"x\"] = data_set[rand_index][\"x\"]\n",
    "            centroids[j][\"y\"] = data_set[rand_index][\"y\"]\n",
    "            \n",
    "    return centroids\n",
    "\n",
    "    #Each centroid is the geometric mean of the points that have that centroid's label\n",
    "    #Note: If a centroid is empty randomly re-initialize it"
   ]
  },
  {
   "cell_type": "code",
   "execution_count": 14,
   "metadata": {},
   "outputs": [],
   "source": [
    "#define clusters of data in the dataset which are similar to one another\n",
    "\n",
    "def kmeans(data_set,size, k):\n",
    "\n",
    "    # Initialize centroids randomly\n",
    "    centroids = get_random_centroids(size, k)\n",
    "    \n",
    "    iterations = 0\n",
    "    oldCentroids = []\n",
    "    \n",
    "    # Run the main k-means algorithm\n",
    "    while converging(oldCentroids, centroids, iterations):\n",
    "        #Save old centroids for convergence test\n",
    "        oldCentroids = centroids\n",
    "        iterations += 1\n",
    "        \n",
    "        #Assign labels to each datapoint based on centroids\n",
    "        assign_centroids(data_set, size, centroids, k)\n",
    "        \n",
    "        #Assign centroids based on datapoint labels\n",
    "        centroids = position_centroids(data_set, size,centroids, k)\n",
    "        \n",
    "    return centroids"
   ]
  },
  {
   "cell_type": "code",
   "execution_count": 11,
   "metadata": {},
   "outputs": [],
   "source": [
    "size = 100\n",
    "bound = 100\n",
    "data_set = generate_list(size, bound)"
   ]
  },
  {
   "cell_type": "code",
   "execution_count": null,
   "metadata": {},
   "outputs": [],
   "source": []
  }
 ],
 "metadata": {
  "kernelspec": {
   "display_name": "Python 3",
   "language": "python",
   "name": "python3"
  },
  "language_info": {
   "codemirror_mode": {
    "name": "ipython",
    "version": 3
   },
   "file_extension": ".py",
   "mimetype": "text/x-python",
   "name": "python",
   "nbconvert_exporter": "python",
   "pygments_lexer": "ipython3",
   "version": "3.6.5"
  }
 },
 "nbformat": 4,
 "nbformat_minor": 2
}
